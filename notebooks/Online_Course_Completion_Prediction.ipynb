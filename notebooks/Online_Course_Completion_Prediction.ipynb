{
 "cells": [
  {
   "cell_type": "code",
   "execution_count": 15,
   "id": "d9250f8a-ec94-41ce-a14a-c82b6567b68d",
   "metadata": {},
   "outputs": [],
   "source": [
    "##ONLINE COURSE COMPLETION PREDICTION "
   ]
  },
  {
   "cell_type": "code",
   "execution_count": 16,
   "id": "f8805d79-c7aa-4e41-8830-b19c2a0f8afc",
   "metadata": {},
   "outputs": [],
   "source": [
    "## Step 1: Import Required Libraries"
   ]
  },
  {
   "cell_type": "code",
   "execution_count": 17,
   "id": "d8e4fa36-f315-450d-a26d-3107a4c8fb55",
   "metadata": {},
   "outputs": [],
   "source": [
    "import pandas as pd\n",
    "import numpy as np\n",
    "import matplotlib.pyplot as plt\n",
    "import seaborn as sns\n",
    "\n",
    "from sklearn.model_selection import train_test_split\n",
    "from sklearn.preprocessing import StandardScaler\n",
    "from sklearn.linear_model import LogisticRegression\n",
    "from sklearn.ensemble import RandomForestClassifier, GradientBoostingClassifier\n",
    "from sklearn.metrics import accuracy_score, confusion_matrix, classification_report\n"
   ]
  },
  {
   "cell_type": "code",
   "execution_count": 18,
   "id": "cf8e51e5-ecfd-435d-bd86-5b661f4acf55",
   "metadata": {},
   "outputs": [],
   "source": [
    "## Step 2: Load Dataset"
   ]
  },
  {
   "cell_type": "code",
   "execution_count": 19,
   "id": "64775b31-c3f3-4be2-ae7d-1f7ace055787",
   "metadata": {},
   "outputs": [
    {
     "data": {
      "text/html": [
       "<div>\n",
       "<style scoped>\n",
       "    .dataframe tbody tr th:only-of-type {\n",
       "        vertical-align: middle;\n",
       "    }\n",
       "\n",
       "    .dataframe tbody tr th {\n",
       "        vertical-align: top;\n",
       "    }\n",
       "\n",
       "    .dataframe thead th {\n",
       "        text-align: right;\n",
       "    }\n",
       "</style>\n",
       "<table border=\"1\" class=\"dataframe\">\n",
       "  <thead>\n",
       "    <tr style=\"text-align: right;\">\n",
       "      <th></th>\n",
       "      <th>age</th>\n",
       "      <th>continent</th>\n",
       "      <th>country</th>\n",
       "      <th>education_level</th>\n",
       "      <th>hours_per_week</th>\n",
       "      <th>num_logins_last_month</th>\n",
       "      <th>videos_watched_pct</th>\n",
       "      <th>assignments_submitted</th>\n",
       "      <th>discussion_posts</th>\n",
       "      <th>is_working_professional</th>\n",
       "      <th>preferred_device</th>\n",
       "      <th>completed_course</th>\n",
       "      <th>height_cm</th>\n",
       "      <th>weight_kg</th>\n",
       "      <th>num_siblings</th>\n",
       "      <th>has_pet</th>\n",
       "      <th>favorite_color</th>\n",
       "      <th>birth_month</th>\n",
       "    </tr>\n",
       "  </thead>\n",
       "  <tbody>\n",
       "    <tr>\n",
       "      <th>0</th>\n",
       "      <td>56</td>\n",
       "      <td>Asia</td>\n",
       "      <td>Japan</td>\n",
       "      <td>Bachelors</td>\n",
       "      <td>9.116071</td>\n",
       "      <td>23</td>\n",
       "      <td>0.507679</td>\n",
       "      <td>7</td>\n",
       "      <td>1</td>\n",
       "      <td>1</td>\n",
       "      <td>mobile</td>\n",
       "      <td>0</td>\n",
       "      <td>175.0</td>\n",
       "      <td>54.1</td>\n",
       "      <td>2</td>\n",
       "      <td>0</td>\n",
       "      <td>red</td>\n",
       "      <td>May</td>\n",
       "    </tr>\n",
       "    <tr>\n",
       "      <th>1</th>\n",
       "      <td>46</td>\n",
       "      <td>Africa</td>\n",
       "      <td>Kenya</td>\n",
       "      <td>No Formal Education</td>\n",
       "      <td>0.454712</td>\n",
       "      <td>19</td>\n",
       "      <td>0.631424</td>\n",
       "      <td>1</td>\n",
       "      <td>1</td>\n",
       "      <td>1</td>\n",
       "      <td>desktop</td>\n",
       "      <td>0</td>\n",
       "      <td>168.6</td>\n",
       "      <td>57.7</td>\n",
       "      <td>3</td>\n",
       "      <td>0</td>\n",
       "      <td>black</td>\n",
       "      <td>Sep</td>\n",
       "    </tr>\n",
       "    <tr>\n",
       "      <th>2</th>\n",
       "      <td>32</td>\n",
       "      <td>South America</td>\n",
       "      <td>Brazil</td>\n",
       "      <td>Bachelors</td>\n",
       "      <td>4.946724</td>\n",
       "      <td>22</td>\n",
       "      <td>0.424817</td>\n",
       "      <td>2</td>\n",
       "      <td>2</td>\n",
       "      <td>0</td>\n",
       "      <td>console</td>\n",
       "      <td>0</td>\n",
       "      <td>176.5</td>\n",
       "      <td>80.2</td>\n",
       "      <td>2</td>\n",
       "      <td>1</td>\n",
       "      <td>green</td>\n",
       "      <td>Jul</td>\n",
       "    </tr>\n",
       "    <tr>\n",
       "      <th>3</th>\n",
       "      <td>25</td>\n",
       "      <td>Africa</td>\n",
       "      <td>Nigeria</td>\n",
       "      <td>Bachelors</td>\n",
       "      <td>5.053960</td>\n",
       "      <td>24</td>\n",
       "      <td>0.318874</td>\n",
       "      <td>3</td>\n",
       "      <td>0</td>\n",
       "      <td>1</td>\n",
       "      <td>console</td>\n",
       "      <td>0</td>\n",
       "      <td>185.2</td>\n",
       "      <td>76.3</td>\n",
       "      <td>1</td>\n",
       "      <td>0</td>\n",
       "      <td>purple</td>\n",
       "      <td>Jun</td>\n",
       "    </tr>\n",
       "    <tr>\n",
       "      <th>4</th>\n",
       "      <td>38</td>\n",
       "      <td>Asia</td>\n",
       "      <td>India</td>\n",
       "      <td>Bachelors</td>\n",
       "      <td>9.870424</td>\n",
       "      <td>28</td>\n",
       "      <td>1.000000</td>\n",
       "      <td>6</td>\n",
       "      <td>0</td>\n",
       "      <td>0</td>\n",
       "      <td>mobile</td>\n",
       "      <td>1</td>\n",
       "      <td>167.7</td>\n",
       "      <td>76.3</td>\n",
       "      <td>2</td>\n",
       "      <td>0</td>\n",
       "      <td>orange</td>\n",
       "      <td>Nov</td>\n",
       "    </tr>\n",
       "  </tbody>\n",
       "</table>\n",
       "</div>"
      ],
      "text/plain": [
       "   age      continent  country      education_level  hours_per_week  \\\n",
       "0   56           Asia    Japan            Bachelors        9.116071   \n",
       "1   46         Africa    Kenya  No Formal Education        0.454712   \n",
       "2   32  South America   Brazil            Bachelors        4.946724   \n",
       "3   25         Africa  Nigeria            Bachelors        5.053960   \n",
       "4   38           Asia    India            Bachelors        9.870424   \n",
       "\n",
       "   num_logins_last_month  videos_watched_pct  assignments_submitted  \\\n",
       "0                     23            0.507679                      7   \n",
       "1                     19            0.631424                      1   \n",
       "2                     22            0.424817                      2   \n",
       "3                     24            0.318874                      3   \n",
       "4                     28            1.000000                      6   \n",
       "\n",
       "   discussion_posts  is_working_professional preferred_device  \\\n",
       "0                 1                        1           mobile   \n",
       "1                 1                        1          desktop   \n",
       "2                 2                        0          console   \n",
       "3                 0                        1          console   \n",
       "4                 0                        0           mobile   \n",
       "\n",
       "   completed_course  height_cm  weight_kg  num_siblings  has_pet  \\\n",
       "0                 0      175.0       54.1             2        0   \n",
       "1                 0      168.6       57.7             3        0   \n",
       "2                 0      176.5       80.2             2        1   \n",
       "3                 0      185.2       76.3             1        0   \n",
       "4                 1      167.7       76.3             2        0   \n",
       "\n",
       "  favorite_color birth_month  \n",
       "0            red         May  \n",
       "1          black         Sep  \n",
       "2          green         Jul  \n",
       "3         purple         Jun  \n",
       "4         orange         Nov  "
      ]
     },
     "execution_count": 19,
     "metadata": {},
     "output_type": "execute_result"
    }
   ],
   "source": [
    "df = pd.read_csv(\"/home/sahana/Documents/ml project 1/online_course_completion.csv\")\n",
    "df.head()"
   ]
  },
  {
   "cell_type": "code",
   "execution_count": 20,
   "id": "840840fb-7919-43b3-94eb-ebec3004eb31",
   "metadata": {},
   "outputs": [],
   "source": [
    "## Step 3: Explore Dataset"
   ]
  },
  {
   "cell_type": "code",
   "execution_count": 21,
   "id": "94554d4e-cddb-4bfe-bbb8-f6baeec4edcc",
   "metadata": {},
   "outputs": [
    {
     "name": "stdout",
     "output_type": "stream",
     "text": [
      "<class 'pandas.core.frame.DataFrame'>\n",
      "RangeIndex: 500000 entries, 0 to 499999\n",
      "Data columns (total 18 columns):\n",
      " #   Column                   Non-Null Count   Dtype  \n",
      "---  ------                   --------------   -----  \n",
      " 0   age                      500000 non-null  int64  \n",
      " 1   continent                500000 non-null  object \n",
      " 2   country                  500000 non-null  object \n",
      " 3   education_level          475000 non-null  object \n",
      " 4   hours_per_week           500000 non-null  float64\n",
      " 5   num_logins_last_month    500000 non-null  int64  \n",
      " 6   videos_watched_pct       475000 non-null  float64\n",
      " 7   assignments_submitted    500000 non-null  int64  \n",
      " 8   discussion_posts         500000 non-null  int64  \n",
      " 9   is_working_professional  500000 non-null  int64  \n",
      " 10  preferred_device         475000 non-null  object \n",
      " 11  completed_course         500000 non-null  int64  \n",
      " 12  height_cm                500000 non-null  float64\n",
      " 13  weight_kg                500000 non-null  float64\n",
      " 14  num_siblings             500000 non-null  int64  \n",
      " 15  has_pet                  500000 non-null  int64  \n",
      " 16  favorite_color           500000 non-null  object \n",
      " 17  birth_month              500000 non-null  object \n",
      "dtypes: float64(4), int64(8), object(6)\n",
      "memory usage: 68.7+ MB\n"
     ]
    },
    {
     "data": {
      "text/plain": [
       "age                            0\n",
       "continent                      0\n",
       "country                        0\n",
       "education_level            25000\n",
       "hours_per_week                 0\n",
       "num_logins_last_month          0\n",
       "videos_watched_pct         25000\n",
       "assignments_submitted          0\n",
       "discussion_posts               0\n",
       "is_working_professional        0\n",
       "preferred_device           25000\n",
       "completed_course               0\n",
       "height_cm                      0\n",
       "weight_kg                      0\n",
       "num_siblings                   0\n",
       "has_pet                        0\n",
       "favorite_color                 0\n",
       "birth_month                    0\n",
       "dtype: int64"
      ]
     },
     "execution_count": 21,
     "metadata": {},
     "output_type": "execute_result"
    }
   ],
   "source": [
    "df.info()        # structure, datatypes, missing values\n",
    "df.describe()    # summary statistics\n",
    "df.isnull().sum()# missing values count\n"
   ]
  },
  {
   "cell_type": "code",
   "execution_count": 22,
   "id": "4090de88-d7b8-4cfd-b53f-4ec36c63d119",
   "metadata": {},
   "outputs": [],
   "source": [
    "## Step 4: Select Features and Target"
   ]
  },
  {
   "cell_type": "code",
   "execution_count": 23,
   "id": "0108ad2e-c380-4bd8-96ea-0389a5482166",
   "metadata": {},
   "outputs": [],
   "source": [
    "features = ['age', 'continent', 'education_level', 'hours_per_week',\n",
    "            'num_logins_last_month', 'videos_watched_pct',\n",
    "            'assignments_submitted', 'discussion_posts',\n",
    "            'is_working_professional', 'preferred_device']\n",
    "\n",
    "X = df[features]\n",
    "y = df['completed_course']\n"
   ]
  },
  {
   "cell_type": "code",
   "execution_count": 24,
   "id": "f165d68c-5e2c-4dcf-ad07-5feaffd9055b",
   "metadata": {},
   "outputs": [
    {
     "data": {
      "text/html": [
       "<div>\n",
       "<style scoped>\n",
       "    .dataframe tbody tr th:only-of-type {\n",
       "        vertical-align: middle;\n",
       "    }\n",
       "\n",
       "    .dataframe tbody tr th {\n",
       "        vertical-align: top;\n",
       "    }\n",
       "\n",
       "    .dataframe thead th {\n",
       "        text-align: right;\n",
       "    }\n",
       "</style>\n",
       "<table border=\"1\" class=\"dataframe\">\n",
       "  <thead>\n",
       "    <tr style=\"text-align: right;\">\n",
       "      <th></th>\n",
       "      <th>age</th>\n",
       "      <th>continent</th>\n",
       "      <th>education_level</th>\n",
       "      <th>hours_per_week</th>\n",
       "      <th>num_logins_last_month</th>\n",
       "      <th>videos_watched_pct</th>\n",
       "      <th>assignments_submitted</th>\n",
       "      <th>discussion_posts</th>\n",
       "      <th>is_working_professional</th>\n",
       "      <th>preferred_device</th>\n",
       "    </tr>\n",
       "  </thead>\n",
       "  <tbody>\n",
       "    <tr>\n",
       "      <th>0</th>\n",
       "      <td>56</td>\n",
       "      <td>Asia</td>\n",
       "      <td>Bachelors</td>\n",
       "      <td>9.116071</td>\n",
       "      <td>23</td>\n",
       "      <td>0.507679</td>\n",
       "      <td>7</td>\n",
       "      <td>1</td>\n",
       "      <td>1</td>\n",
       "      <td>mobile</td>\n",
       "    </tr>\n",
       "    <tr>\n",
       "      <th>1</th>\n",
       "      <td>46</td>\n",
       "      <td>Africa</td>\n",
       "      <td>No Formal Education</td>\n",
       "      <td>0.454712</td>\n",
       "      <td>19</td>\n",
       "      <td>0.631424</td>\n",
       "      <td>1</td>\n",
       "      <td>1</td>\n",
       "      <td>1</td>\n",
       "      <td>desktop</td>\n",
       "    </tr>\n",
       "    <tr>\n",
       "      <th>2</th>\n",
       "      <td>32</td>\n",
       "      <td>South America</td>\n",
       "      <td>Bachelors</td>\n",
       "      <td>4.946724</td>\n",
       "      <td>22</td>\n",
       "      <td>0.424817</td>\n",
       "      <td>2</td>\n",
       "      <td>2</td>\n",
       "      <td>0</td>\n",
       "      <td>console</td>\n",
       "    </tr>\n",
       "    <tr>\n",
       "      <th>3</th>\n",
       "      <td>25</td>\n",
       "      <td>Africa</td>\n",
       "      <td>Bachelors</td>\n",
       "      <td>5.053960</td>\n",
       "      <td>24</td>\n",
       "      <td>0.318874</td>\n",
       "      <td>3</td>\n",
       "      <td>0</td>\n",
       "      <td>1</td>\n",
       "      <td>console</td>\n",
       "    </tr>\n",
       "    <tr>\n",
       "      <th>4</th>\n",
       "      <td>38</td>\n",
       "      <td>Asia</td>\n",
       "      <td>Bachelors</td>\n",
       "      <td>9.870424</td>\n",
       "      <td>28</td>\n",
       "      <td>1.000000</td>\n",
       "      <td>6</td>\n",
       "      <td>0</td>\n",
       "      <td>0</td>\n",
       "      <td>mobile</td>\n",
       "    </tr>\n",
       "  </tbody>\n",
       "</table>\n",
       "</div>"
      ],
      "text/plain": [
       "   age      continent      education_level  hours_per_week  \\\n",
       "0   56           Asia            Bachelors        9.116071   \n",
       "1   46         Africa  No Formal Education        0.454712   \n",
       "2   32  South America            Bachelors        4.946724   \n",
       "3   25         Africa            Bachelors        5.053960   \n",
       "4   38           Asia            Bachelors        9.870424   \n",
       "\n",
       "   num_logins_last_month  videos_watched_pct  assignments_submitted  \\\n",
       "0                     23            0.507679                      7   \n",
       "1                     19            0.631424                      1   \n",
       "2                     22            0.424817                      2   \n",
       "3                     24            0.318874                      3   \n",
       "4                     28            1.000000                      6   \n",
       "\n",
       "   discussion_posts  is_working_professional preferred_device  \n",
       "0                 1                        1           mobile  \n",
       "1                 1                        1          desktop  \n",
       "2                 2                        0          console  \n",
       "3                 0                        1          console  \n",
       "4                 0                        0           mobile  "
      ]
     },
     "execution_count": 24,
     "metadata": {},
     "output_type": "execute_result"
    }
   ],
   "source": [
    "X.head()"
   ]
  },
  {
   "cell_type": "code",
   "execution_count": 25,
   "id": "42198522-8716-4263-bbd9-05ffe308aeb3",
   "metadata": {},
   "outputs": [
    {
     "data": {
      "text/plain": [
       "0    0\n",
       "1    0\n",
       "2    0\n",
       "3    0\n",
       "4    1\n",
       "Name: completed_course, dtype: int64"
      ]
     },
     "execution_count": 25,
     "metadata": {},
     "output_type": "execute_result"
    }
   ],
   "source": [
    "y.head()"
   ]
  },
  {
   "cell_type": "code",
   "execution_count": 26,
   "id": "d588b9be-ac15-488e-bd14-818e33f1dfe0",
   "metadata": {},
   "outputs": [],
   "source": [
    "## Step 5: Handle Missing Values"
   ]
  },
  {
   "cell_type": "code",
   "execution_count": 27,
   "id": "68be2e7b-55a2-4ec5-b98d-8d33a9565219",
   "metadata": {},
   "outputs": [
    {
     "data": {
      "text/plain": [
       "age                        0\n",
       "continent                  0\n",
       "education_level            0\n",
       "hours_per_week             0\n",
       "num_logins_last_month      0\n",
       "videos_watched_pct         0\n",
       "assignments_submitted      0\n",
       "discussion_posts           0\n",
       "is_working_professional    0\n",
       "preferred_device           0\n",
       "dtype: int64"
      ]
     },
     "execution_count": 27,
     "metadata": {},
     "output_type": "execute_result"
    }
   ],
   "source": [
    "X.loc[:, 'education_level'] = X['education_level'].fillna(X['education_level'].mode()[0])\n",
    "X.loc[:, 'videos_watched_pct'] = X['videos_watched_pct'].fillna(X['videos_watched_pct'].median())\n",
    "X.loc[:, 'preferred_device'] = X['preferred_device'].fillna(X['preferred_device'].mode()[0])\n",
    "\n",
    "X.isnull().sum()\n"
   ]
  },
  {
   "cell_type": "code",
   "execution_count": 28,
   "id": "4e1b5a04-b920-4fad-8da9-1c5d1704601c",
   "metadata": {},
   "outputs": [],
   "source": [
    "## Step 6: Encode Categorical Variables"
   ]
  },
  {
   "cell_type": "code",
   "execution_count": 29,
   "id": "1b51e1e3-dce3-4b5d-bc4f-d8e591a493fd",
   "metadata": {},
   "outputs": [
    {
     "data": {
      "text/html": [
       "<div>\n",
       "<style scoped>\n",
       "    .dataframe tbody tr th:only-of-type {\n",
       "        vertical-align: middle;\n",
       "    }\n",
       "\n",
       "    .dataframe tbody tr th {\n",
       "        vertical-align: top;\n",
       "    }\n",
       "\n",
       "    .dataframe thead th {\n",
       "        text-align: right;\n",
       "    }\n",
       "</style>\n",
       "<table border=\"1\" class=\"dataframe\">\n",
       "  <thead>\n",
       "    <tr style=\"text-align: right;\">\n",
       "      <th></th>\n",
       "      <th>age</th>\n",
       "      <th>hours_per_week</th>\n",
       "      <th>num_logins_last_month</th>\n",
       "      <th>videos_watched_pct</th>\n",
       "      <th>assignments_submitted</th>\n",
       "      <th>discussion_posts</th>\n",
       "      <th>is_working_professional</th>\n",
       "      <th>continent_Antarctica</th>\n",
       "      <th>continent_Asia</th>\n",
       "      <th>continent_Europe</th>\n",
       "      <th>...</th>\n",
       "      <th>education_level_Diploma</th>\n",
       "      <th>education_level_High School</th>\n",
       "      <th>education_level_Masters</th>\n",
       "      <th>education_level_No Formal Education</th>\n",
       "      <th>education_level_PhD</th>\n",
       "      <th>preferred_device_desktop</th>\n",
       "      <th>preferred_device_mobile</th>\n",
       "      <th>preferred_device_pager</th>\n",
       "      <th>preferred_device_smart_tv</th>\n",
       "      <th>preferred_device_tablet</th>\n",
       "    </tr>\n",
       "  </thead>\n",
       "  <tbody>\n",
       "    <tr>\n",
       "      <th>0</th>\n",
       "      <td>56</td>\n",
       "      <td>9.116071</td>\n",
       "      <td>23</td>\n",
       "      <td>0.507679</td>\n",
       "      <td>7</td>\n",
       "      <td>1</td>\n",
       "      <td>1</td>\n",
       "      <td>False</td>\n",
       "      <td>True</td>\n",
       "      <td>False</td>\n",
       "      <td>...</td>\n",
       "      <td>False</td>\n",
       "      <td>False</td>\n",
       "      <td>False</td>\n",
       "      <td>False</td>\n",
       "      <td>False</td>\n",
       "      <td>False</td>\n",
       "      <td>True</td>\n",
       "      <td>False</td>\n",
       "      <td>False</td>\n",
       "      <td>False</td>\n",
       "    </tr>\n",
       "    <tr>\n",
       "      <th>1</th>\n",
       "      <td>46</td>\n",
       "      <td>0.454712</td>\n",
       "      <td>19</td>\n",
       "      <td>0.631424</td>\n",
       "      <td>1</td>\n",
       "      <td>1</td>\n",
       "      <td>1</td>\n",
       "      <td>False</td>\n",
       "      <td>False</td>\n",
       "      <td>False</td>\n",
       "      <td>...</td>\n",
       "      <td>False</td>\n",
       "      <td>False</td>\n",
       "      <td>False</td>\n",
       "      <td>True</td>\n",
       "      <td>False</td>\n",
       "      <td>True</td>\n",
       "      <td>False</td>\n",
       "      <td>False</td>\n",
       "      <td>False</td>\n",
       "      <td>False</td>\n",
       "    </tr>\n",
       "    <tr>\n",
       "      <th>2</th>\n",
       "      <td>32</td>\n",
       "      <td>4.946724</td>\n",
       "      <td>22</td>\n",
       "      <td>0.424817</td>\n",
       "      <td>2</td>\n",
       "      <td>2</td>\n",
       "      <td>0</td>\n",
       "      <td>False</td>\n",
       "      <td>False</td>\n",
       "      <td>False</td>\n",
       "      <td>...</td>\n",
       "      <td>False</td>\n",
       "      <td>False</td>\n",
       "      <td>False</td>\n",
       "      <td>False</td>\n",
       "      <td>False</td>\n",
       "      <td>False</td>\n",
       "      <td>False</td>\n",
       "      <td>False</td>\n",
       "      <td>False</td>\n",
       "      <td>False</td>\n",
       "    </tr>\n",
       "    <tr>\n",
       "      <th>3</th>\n",
       "      <td>25</td>\n",
       "      <td>5.053960</td>\n",
       "      <td>24</td>\n",
       "      <td>0.318874</td>\n",
       "      <td>3</td>\n",
       "      <td>0</td>\n",
       "      <td>1</td>\n",
       "      <td>False</td>\n",
       "      <td>False</td>\n",
       "      <td>False</td>\n",
       "      <td>...</td>\n",
       "      <td>False</td>\n",
       "      <td>False</td>\n",
       "      <td>False</td>\n",
       "      <td>False</td>\n",
       "      <td>False</td>\n",
       "      <td>False</td>\n",
       "      <td>False</td>\n",
       "      <td>False</td>\n",
       "      <td>False</td>\n",
       "      <td>False</td>\n",
       "    </tr>\n",
       "    <tr>\n",
       "      <th>4</th>\n",
       "      <td>38</td>\n",
       "      <td>9.870424</td>\n",
       "      <td>28</td>\n",
       "      <td>1.000000</td>\n",
       "      <td>6</td>\n",
       "      <td>0</td>\n",
       "      <td>0</td>\n",
       "      <td>False</td>\n",
       "      <td>True</td>\n",
       "      <td>False</td>\n",
       "      <td>...</td>\n",
       "      <td>False</td>\n",
       "      <td>False</td>\n",
       "      <td>False</td>\n",
       "      <td>False</td>\n",
       "      <td>False</td>\n",
       "      <td>False</td>\n",
       "      <td>True</td>\n",
       "      <td>False</td>\n",
       "      <td>False</td>\n",
       "      <td>False</td>\n",
       "    </tr>\n",
       "  </tbody>\n",
       "</table>\n",
       "<p>5 rows × 22 columns</p>\n",
       "</div>"
      ],
      "text/plain": [
       "   age  hours_per_week  num_logins_last_month  videos_watched_pct  \\\n",
       "0   56        9.116071                     23            0.507679   \n",
       "1   46        0.454712                     19            0.631424   \n",
       "2   32        4.946724                     22            0.424817   \n",
       "3   25        5.053960                     24            0.318874   \n",
       "4   38        9.870424                     28            1.000000   \n",
       "\n",
       "   assignments_submitted  discussion_posts  is_working_professional  \\\n",
       "0                      7                 1                        1   \n",
       "1                      1                 1                        1   \n",
       "2                      2                 2                        0   \n",
       "3                      3                 0                        1   \n",
       "4                      6                 0                        0   \n",
       "\n",
       "   continent_Antarctica  continent_Asia  continent_Europe  ...  \\\n",
       "0                 False            True             False  ...   \n",
       "1                 False           False             False  ...   \n",
       "2                 False           False             False  ...   \n",
       "3                 False           False             False  ...   \n",
       "4                 False            True             False  ...   \n",
       "\n",
       "   education_level_Diploma  education_level_High School  \\\n",
       "0                    False                        False   \n",
       "1                    False                        False   \n",
       "2                    False                        False   \n",
       "3                    False                        False   \n",
       "4                    False                        False   \n",
       "\n",
       "   education_level_Masters  education_level_No Formal Education  \\\n",
       "0                    False                                False   \n",
       "1                    False                                 True   \n",
       "2                    False                                False   \n",
       "3                    False                                False   \n",
       "4                    False                                False   \n",
       "\n",
       "   education_level_PhD  preferred_device_desktop  preferred_device_mobile  \\\n",
       "0                False                     False                     True   \n",
       "1                False                      True                    False   \n",
       "2                False                     False                    False   \n",
       "3                False                     False                    False   \n",
       "4                False                     False                     True   \n",
       "\n",
       "   preferred_device_pager  preferred_device_smart_tv  preferred_device_tablet  \n",
       "0                   False                      False                    False  \n",
       "1                   False                      False                    False  \n",
       "2                   False                      False                    False  \n",
       "3                   False                      False                    False  \n",
       "4                   False                      False                    False  \n",
       "\n",
       "[5 rows x 22 columns]"
      ]
     },
     "execution_count": 29,
     "metadata": {},
     "output_type": "execute_result"
    }
   ],
   "source": [
    "X_encoded = pd.get_dummies(X, columns=['continent', 'education_level', 'preferred_device'], drop_first=True)\n",
    "X_encoded.head()\n"
   ]
  },
  {
   "cell_type": "code",
   "execution_count": 30,
   "id": "418eef7a-da75-4548-8af4-449a71231577",
   "metadata": {},
   "outputs": [],
   "source": [
    "## Step 7: Feature Engineering"
   ]
  },
  {
   "cell_type": "code",
   "execution_count": 31,
   "id": "3b623ba3-e93e-4bf8-96d8-2237da2fad4c",
   "metadata": {},
   "outputs": [],
   "source": [
    "df['BMI'] = df['weight_kg'] / (df['height_cm'] / 100) ** 2\n",
    "df['engagement_score'] = df['videos_watched_pct'] + df['assignments_submitted'] + df['discussion_posts']\n",
    "\n",
    "X_encoded['BMI'] = df['BMI']\n",
    "X_encoded['engagement_score'] = df['engagement_score'].fillna(df['engagement_score'].median())\n"
   ]
  },
  {
   "cell_type": "code",
   "execution_count": 32,
   "id": "597aea1f-5ada-4f2f-aa7b-b023bd76bdaf",
   "metadata": {},
   "outputs": [],
   "source": [
    "## Step 8: Scale Features"
   ]
  },
  {
   "cell_type": "code",
   "execution_count": 33,
   "id": "6e8d7552-afe8-440c-ad09-7032ae52430b",
   "metadata": {},
   "outputs": [
    {
     "data": {
      "text/plain": [
       "(500000, 24)"
      ]
     },
     "execution_count": 33,
     "metadata": {},
     "output_type": "execute_result"
    }
   ],
   "source": [
    "scaler = StandardScaler()\n",
    "X_scaled = scaler.fit_transform(X_encoded)\n",
    "X_scaled.shape\n"
   ]
  },
  {
   "cell_type": "code",
   "execution_count": 34,
   "id": "9edaa6b4-d8e6-4353-91a9-f082a85df09e",
   "metadata": {},
   "outputs": [],
   "source": [
    "## Step 9: Train-Test Split"
   ]
  },
  {
   "cell_type": "code",
   "execution_count": 35,
   "id": "6e60882e-d9fb-4765-87c2-0e02a6cb1fe5",
   "metadata": {},
   "outputs": [],
   "source": [
    "X_train, X_test, y_train, y_test = train_test_split(X_scaled, y, test_size=0.2, random_state=42)\n"
   ]
  },
  {
   "cell_type": "code",
   "execution_count": 36,
   "id": "e3eb17c4-4276-4a90-883b-e346862172d1",
   "metadata": {},
   "outputs": [],
   "source": [
    "## Step 10:  Model Training (Logistic Regression, Random Forest, Gradient Boosting)"
   ]
  },
  {
   "cell_type": "code",
   "execution_count": 37,
   "id": "9cfee2fb-3e1a-48de-abb9-ba0de1cce72a",
   "metadata": {},
   "outputs": [
    {
     "name": "stdout",
     "output_type": "stream",
     "text": [
      "\n",
      "Logistic Regression Accuracy: 0.8527\n",
      "              precision    recall  f1-score   support\n",
      "\n",
      "           0       0.87      0.95      0.91     75015\n",
      "           1       0.78      0.57      0.66     24985\n",
      "\n",
      "    accuracy                           0.85    100000\n",
      "   macro avg       0.82      0.76      0.78    100000\n",
      "weighted avg       0.85      0.85      0.84    100000\n",
      "\n"
     ]
    },
    {
     "data": {
      "image/png": "[encoded data removed]",
      "text/plain": [
       "<Figure size 640x480 with 2 Axes>"
      ]
     },
     "metadata": {},
     "output_type": "display_data"
    },
    {
     "name": "stdout",
     "output_type": "stream",
     "text": [
      "\n",
      "Random Forest Accuracy: 0.9514\n",
      "              precision    recall  f1-score   support\n",
      "\n",
      "           0       0.94      1.00      0.97     75015\n",
      "           1       1.00      0.81      0.89     24985\n",
      "\n",
      "    accuracy                           0.95    100000\n",
      "   macro avg       0.97      0.90      0.93    100000\n",
      "weighted avg       0.95      0.95      0.95    100000\n",
      "\n"
     ]
    },
    {
     "data": {
      "image/png": "[encoded data removed]",
      "text/plain": [
       "<Figure size 640x480 with 2 Axes>"
      ]
     },
     "metadata": {},
     "output_type": "display_data"
    },
    {
     "name": "stdout",
     "output_type": "stream",
     "text": [
      "\n",
      "Gradient Boosting Accuracy: 0.9625\n",
      "              precision    recall  f1-score   support\n",
      "\n",
      "           0       0.95      1.00      0.98     75015\n",
      "           1       0.99      0.86      0.92     24985\n",
      "\n",
      "    accuracy                           0.96    100000\n",
      "   macro avg       0.97      0.93      0.95    100000\n",
      "weighted avg       0.96      0.96      0.96    100000\n",
      "\n"
     ]
    },
    {
     "data": {
      "image/png": "[encoded data removed]",
      "text/plain": [
       "<Figure size 640x480 with 2 Axes>"
      ]
     },
     "metadata": {},
     "output_type": "display_data"
    }
   ],
   "source": [
    "models = {\n",
    "    \"Logistic Regression\": LogisticRegression(max_iter=1000),\n",
    "    \"Random Forest\": RandomForestClassifier(n_estimators=100, random_state=42),\n",
    "    \"Gradient Boosting\": GradientBoostingClassifier(random_state=42)\n",
    "}\n",
    "\n",
    "results = {}\n",
    "\n",
    "for name, model in models.items():\n",
    "    model.fit(X_train, y_train)\n",
    "    y_pred = model.predict(X_test)\n",
    "    \n",
    "    acc = accuracy_score(y_test, y_pred)\n",
    "    print(f\"\\n{name} Accuracy: {acc:.4f}\")\n",
    "    print(classification_report(y_test, y_pred))\n",
    "    \n",
    "    cm = confusion_matrix(y_test, y_pred)\n",
    "    sns.heatmap(cm, annot=True, fmt='d', cmap='Blues')\n",
    "    plt.title(f'{name} - Confusion Matrix')\n",
    "    plt.xlabel('Predicted')\n",
    "    plt.ylabel('Actual')\n",
    "    plt.show()\n",
    "    \n",
    "    results[name] = acc\n"
   ]
  },
  {
   "cell_type": "code",
   "execution_count": 38,
   "id": "90de3cc9-ae04-4b66-ad51-2102faef00cc",
   "metadata": {},
   "outputs": [],
   "source": [
    "# Step 11: Compare Model Accuracies"
   ]
  },
  {
   "cell_type": "code",
   "execution_count": 40,
   "id": "1d92a51a-fced-4521-8978-f870c203967c",
   "metadata": {},
   "outputs": [
    {
     "data": {
      "image/png": "[encoded data removed]",
      "text/plain": [
       "<Figure size 800x500 with 1 Axes>"
      ]
     },
     "metadata": {},
     "output_type": "display_data"
    }
   ],
   "source": [
    "plt.figure(figsize=(8, 5))\n",
    "plt.bar(results.keys(), results.values(), color=['blue', 'green', 'orange'])\n",
    "plt.ylabel(\"Accuracy\")\n",
    "plt.title(\"Model Comparison\")\n",
    "plt.ylim(0, 1)\n",
    "plt.show()"
   ]
  },
  {
   "cell_type": "code",
   "execution_count": null,
   "id": "5f9d2a72-a130-4f83-abea-1be7d4b05cfa",
   "metadata": {},
   "outputs": [],
   "source": []
  }
 ],
 "metadata": {
  "kernelspec": {
   "display_name": "Python (ml-project-1)",
   "language": "python",
   "name": "ml-project-1"
  },
  "language_info": {
   "codemirror_mode": {
    "name": "ipython",
    "version": 3
   },
   "file_extension": ".py",
   "mimetype": "text/x-python",
   "name": "python",
   "nbconvert_exporter": "python",
   "pygments_lexer": "ipython3",
   "version": "3.10.13"
  }
 },
 "nbformat": 4,
 "nbformat_minor": 5
}
